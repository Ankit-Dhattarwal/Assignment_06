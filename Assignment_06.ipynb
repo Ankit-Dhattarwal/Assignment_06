{
 "cells": [
  {
   "cell_type": "markdown",
   "id": "e0ac0def-b7ef-4dab-9ddd-01bb7706ab40",
   "metadata": {},
   "source": [
    "### Q.1> Create a function which will take a list as an argument and return the product of all the numbers after creating a flat list. Use the below-given list as an argument for your function. list1 = [1,2,3,4, [44,55,66, True], False, (34,56,78,89,34), {1,2,3,3,2,1}, {1:34, \"key2\": [55, 67, 78, 89], 4: (45,\n",
    "22, 61, 34)}, [56, 'data science'], 'Machine Learning' Note: you must extract numeric keys and values of the dictionary also."
   ]
  },
  {
   "cell_type": "markdown",
   "id": "ad3af0ef-12f1-47df-b8e8-95541185705b",
   "metadata": {},
   "source": [
    "### ANSWER"
   ]
  },
  {
   "cell_type": "code",
   "execution_count": 24,
   "id": "a2a77ef2-8e3c-42dd-995e-4a766b15bebb",
   "metadata": {},
   "outputs": [],
   "source": [
    "def product_of_numbers(lst):\n",
    "    flat_list = []\n",
    "    for item in lst:\n",
    "        if isinstance(item, (list, tuple, set)):\n",
    "            flat_list.extend(item)\n",
    "        elif isinstance(item, dict):\n",
    "            for key, value in item.items():\n",
    "                if isinstance(key, int):\n",
    "                    flat_list.append(key)\n",
    "                if isinstance(value, int):\n",
    "                    flat_list.append(value)\n",
    "        elif isinstance(item, int):\n",
    "            flat_list.append(item)\n",
    "    product = 1\n",
    "    for num in flat_list:\n",
    "        product *= num\n",
    "    return product\n"
   ]
  },
  {
   "cell_type": "markdown",
   "id": "ee9fd513-580d-4d36-8540-afab1cc1811d",
   "metadata": {},
   "source": [
    "\n"
   ]
  },
  {
   "cell_type": "code",
   "execution_count": null,
   "id": "b4b04ec8-a64b-4150-bee2-2161493c8090",
   "metadata": {},
   "outputs": [],
   "source": []
  },
  {
   "cell_type": "markdown",
   "id": "bb828cde-c953-431b-9c83-128ccf867a85",
   "metadata": {},
   "source": [
    "### Q.2> Write a python program for encrypting a message sent to you by your friend. The logic of encryption\n",
    "### should be such that, for a the output should be z. For b, the output should be y. For c, the output should\n",
    "### be x respectively. Also, the whitespace should be replaced with a dollar sign. Keep the punctuation\n",
    "### marks unchanged.\n",
    "### Input Sentence: I want to become a Data Scientist.\n",
    "### Encrypt the above input sentence using the program you just created.\n",
    "### Note: Convert the given input sentence into lowercase before encrypting. The final output should be\n",
    "### lowercase."
   ]
  },
  {
   "cell_type": "markdown",
   "id": "0f1c992e-fbc1-48c0-ae1b-ddd8db47178c",
   "metadata": {},
   "source": [
    "#### ANSWER"
   ]
  },
  {
   "cell_type": "code",
   "execution_count": 15,
   "id": "e3998cbd-dfb9-410a-9a19-052f930ce4bb",
   "metadata": {},
   "outputs": [
    {
     "name": "stdout",
     "output_type": "stream",
     "text": [
      "r$dzmg$gl$yvxlnv$z$wzgz$hxrvmgrhg.\n"
     ]
    }
   ],
   "source": [
    "def encrypt(message):\n",
    "    output = \"\"\n",
    "    for char in message:\n",
    "        if char == \" \":\n",
    "            output += \"$\"\n",
    "        elif char.isalpha():\n",
    "            output += chr(122 - (ord(char) - 97))\n",
    "        else:\n",
    "            output += char\n",
    "    return output.lower()\n",
    "\n",
    "\n",
    "input_sentence = \"I want to become a Data Scientist.\"\n",
    "encrypted_sentence = encrypt(input_sentence.lower())\n",
    "print(encrypted_sentence)\n"
   ]
  },
  {
   "cell_type": "code",
   "execution_count": 21,
   "id": "82a2d87c-bada-4e53-95c4-8f4494f977d2",
   "metadata": {},
   "outputs": [],
   "source": []
  },
  {
   "cell_type": "code",
   "execution_count": 22,
   "id": "c0148e3b-1028-4f11-b1cf-b336a6d708b0",
   "metadata": {},
   "outputs": [
    {
     "name": "stdout",
     "output_type": "stream",
     "text": [
      "\n"
     ]
    }
   ],
   "source": [
    "list1 = [1,2,3,4, [44,55,66, True], False, (34,56,78,89,34), {1,2,3,3,2,1}, {1:34, \"key2\": [55, 67, 78, 89], 4: (45, 22, 61, 34)}, [56, 'data science'], 'Machine Learning']\n",
    "\n",
    "result = product_of_numbers(list1)\n",
    "\n",
    "print(result)\n"
   ]
  },
  {
   "cell_type": "code",
   "execution_count": null,
   "id": "85880213-c00a-410d-8ca6-85d05ba1dd24",
   "metadata": {},
   "outputs": [],
   "source": []
  }
 ],
 "metadata": {
  "kernelspec": {
   "display_name": "Python 3 (ipykernel)",
   "language": "python",
   "name": "python3"
  },
  "language_info": {
   "codemirror_mode": {
    "name": "ipython",
    "version": 3
   },
   "file_extension": ".py",
   "mimetype": "text/x-python",
   "name": "python",
   "nbconvert_exporter": "python",
   "pygments_lexer": "ipython3",
   "version": "3.10.8"
  }
 },
 "nbformat": 4,
 "nbformat_minor": 5
}
